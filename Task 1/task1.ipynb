{
 "cells": [
  {
   "attachments": {},
   "cell_type": "markdown",
   "metadata": {},
   "source": [
    "# Задание\n",
    "\n",
    "### Реализовать индексы, повышающие производительность операций вставки и изменения платежей без модификации программных компонент"
   ]
  },
  {
   "attachments": {},
   "cell_type": "markdown",
   "metadata": {},
   "source": [
    "Подключаемся к БД"
   ]
  },
  {
   "cell_type": "code",
   "execution_count": 1,
   "metadata": {},
   "outputs": [],
   "source": [
    "import pyodbc \n",
    "\n",
    "str_param = (\n",
    "    r'Driver={ODBC Driver 18 for SQL Server};'\n",
    "    r'Server=localhost;'\n",
    "    r'Database=PaymentData;'\n",
    "    r'Trusted_Connection=yes;'\n",
    "    r'Encrypt=no;'\n",
    "    )\n",
    "cnxn = pyodbc.connect(str_param)\n",
    "cursor = cnxn.cursor()"
   ]
  },
  {
   "attachments": {},
   "cell_type": "markdown",
   "metadata": {},
   "source": [
    "Для начала проверим время испольнения запросов `INSERT` и `UPDATE` до введения индексов"
   ]
  },
  {
   "cell_type": "code",
   "execution_count": 2,
   "metadata": {},
   "outputs": [],
   "source": [
    "from random import randint\n",
    "\n",
    "\n",
    "def get_participant_oid():\n",
    "    query = \"\"\"\n",
    "    SELECT TOP 1 Oid\n",
    "    FROM PaymentParticipant\n",
    "    ORDER BY NEWID() \n",
    "    \"\"\"\n",
    "    return cursor.execute(query).fetchval()\n",
    "\n",
    "\n",
    "def get_category_oid():\n",
    "    query = \"\"\"\n",
    "    SELECT TOP 1 Oid\n",
    "    FROM PaymentCategory\n",
    "    ORDER BY NEWID() \n",
    "    \"\"\"\n",
    "    return cursor.execute(query).fetchval()\n",
    "\n",
    "\n",
    "def get_project_oid():\n",
    "    query = \"\"\"\n",
    "    SELECT TOP 1 Oid\n",
    "    FROM Project\n",
    "    ORDER BY NEWID() \n",
    "    \"\"\"\n",
    "    return cursor.execute(query).fetchval()\n",
    "\n",
    "\n",
    "def get_payment_oid():\n",
    "    query = \"\"\"\n",
    "    SELECT TOP 1 Oid\n",
    "    FROM Payment\n",
    "    ORDER BY NEWID() \n",
    "    \"\"\"\n",
    "    return cursor.execute(query).fetchval()"
   ]
  },
  {
   "cell_type": "code",
   "execution_count": 3,
   "metadata": {},
   "outputs": [
    {
     "name": "stdout",
     "output_type": "stream",
     "text": [
      "1.46 s ± 0 ns per loop (mean ± std. dev. of 1 run, 1 loop each)\n"
     ]
    }
   ],
   "source": [
    "%%timeit -r 1 -n 1\n",
    "for _ in range(2000):\n",
    "    payer_oid = get_participant_oid()\n",
    "    payee_oid = get_participant_oid()\n",
    "    if payee_oid == payee_oid:\n",
    "        payee_oid = get_participant_oid()\n",
    "    payment_category_oid = get_category_oid()\n",
    "    project_oid = get_project_oid()\n",
    "\n",
    "    query = f\"\"\"\n",
    "    INSERT INTO Payment\n",
    "    (Oid, Amount, Category, Project, Justification,\n",
    "    Comment, Date, Payer, Payee, OptimisticLockField, GCRecord,\n",
    "    CreateDate, CheckNumber, IsAuthorized, Number)\n",
    "    VALUES\n",
    "    (NEWID(), '{randint(0, 42000)}', '{payment_category_oid}', '{project_oid}', NULL,\n",
    "    'Random inserted payment', NULL, '{payer_oid}', '{payee_oid}', NULL, NULL,\n",
    "    NULL, NULL, NULL, NULL)\n",
    "    \"\"\"\n",
    "    cursor.execute(query)\n",
    "cursor.commit()"
   ]
  },
  {
   "cell_type": "code",
   "execution_count": 4,
   "metadata": {},
   "outputs": [
    {
     "name": "stdout",
     "output_type": "stream",
     "text": [
      "1.86 s ± 0 ns per loop (mean ± std. dev. of 1 run, 1 loop each)\n"
     ]
    }
   ],
   "source": [
    "%%timeit -r 1 -n 1\n",
    "for _ in range(2000):\n",
    "    payer_oid = get_participant_oid()\n",
    "    payee_oid = get_participant_oid() \n",
    "    if payee_oid == payee_oid:\n",
    "        payee_oid = get_participant_oid()\n",
    "    payment_category_oid = get_category_oid()\n",
    "    payment_oid = get_payment_oid()\n",
    "\n",
    "    query = f\"\"\"\n",
    "    UPDATE Payment\n",
    "    SET Amount = Amount + 42, Payer = '{payer_oid}', Payee = '{payee_oid}', Category = '{payment_category_oid}'\n",
    "    WHERE Oid = '{payment_oid}'\n",
    "    \"\"\"\n",
    "    cursor.execute(query)\n",
    "cursor.commit()"
   ]
  },
  {
   "attachments": {},
   "cell_type": "markdown",
   "metadata": {},
   "source": [
    "Теперь добавим индексы к нашей БД"
   ]
  },
  {
   "cell_type": "code",
   "execution_count": 5,
   "metadata": {},
   "outputs": [],
   "source": [
    "indexes = [\n",
    "    \"NONCLUSTERED INDEX iName_PaymentCategory ON PaymentCategory (Name)\",\n",
    "    \"NONCLUSTERED INDEX iName_AccountType ON AccountType (Name)\",\n",
    "    \"NONCLUSTERED INDEX iProfitByMaterialAsPayer_Supplier ON Supplier (ProfitByMaterialAsPayer)\",\n",
    "    \"NONCLUSTERED INDEX iProfitByMaterialAsPayee_Supplier ON Supplier (ProfitByMaterialAsPayee)\",\n",
    "    \"NONCLUSTERED INDEX iProfitByMaterial_PaymentCategory ON PaymentCategory (ProfitByMaterial)\",\n",
    "    \"NONCLUSTERED INDEX iCostByMaterial_PaymentCategory ON PaymentCategory (CostByMaterial)\",\n",
    "    \"NONCLUSTERED INDEX iNotInPaymentParticipantProfit_PaymentCategory ON PaymentCategory (NotInPaymentParticipantProfit)\",\n",
    "]\n",
    "\n",
    "for index in indexes:\n",
    "    query = f\"\"\"\n",
    "    CREATE {index}\n",
    "    \"\"\"\n",
    "    cursor.execute(query)\n",
    "    cursor.commit()"
   ]
  },
  {
   "cell_type": "code",
   "execution_count": 6,
   "metadata": {},
   "outputs": [
    {
     "name": "stdout",
     "output_type": "stream",
     "text": [
      "1.04 s ± 0 ns per loop (mean ± std. dev. of 1 run, 1 loop each)\n"
     ]
    }
   ],
   "source": [
    "%%timeit -r 1 -n 1\n",
    "for _ in range(2000):\n",
    "    payer_oid = get_participant_oid()\n",
    "    payee_oid = get_participant_oid()\n",
    "    if payee_oid == payee_oid:\n",
    "        payee_oid = get_participant_oid()\n",
    "    payment_category_oid = get_category_oid()\n",
    "    project_oid = get_project_oid()\n",
    "\n",
    "    query = f\"\"\"\n",
    "    INSERT INTO Payment\n",
    "    (Oid, Amount, Category, Project, Justification,\n",
    "    Comment, Date, Payer, Payee, OptimisticLockField, GCRecord,\n",
    "    CreateDate, CheckNumber, IsAuthorized, Number)\n",
    "    VALUES\n",
    "    (NEWID(), '{randint(0, 42000)}', '{payment_category_oid}', '{project_oid}', NULL,\n",
    "    'Random inserted payment', NULL, '{payer_oid}', '{payee_oid}', NULL, NULL,\n",
    "    NULL, NULL, NULL, NULL)\n",
    "    \"\"\"\n",
    "    cursor.execute(query)\n",
    "cursor.commit()"
   ]
  },
  {
   "cell_type": "code",
   "execution_count": 8,
   "metadata": {},
   "outputs": [
    {
     "name": "stdout",
     "output_type": "stream",
     "text": [
      "1.60 s ± 0 ns per loop (mean ± std. dev. of 1 run, 1 loop each)\n"
     ]
    }
   ],
   "source": [
    "%%timeit -r 1 -n 1\n",
    "for _ in range(2000):\n",
    "    payer_oid = get_participant_oid()\n",
    "    payee_oid = get_participant_oid() \n",
    "    if payee_oid == payee_oid:\n",
    "        payee_oid = get_participant_oid()\n",
    "    payment_category_oid = get_category_oid()\n",
    "    payment_oid = get_payment_oid()\n",
    "\n",
    "    query = f\"\"\"\n",
    "    UPDATE Payment\n",
    "    SET Amount = Amount + 42, Payer = '{payer_oid}', Payee = '{payee_oid}', Category = '{payment_category_oid}'\n",
    "    WHERE Oid = '{payment_oid}'\n",
    "    \"\"\"\n",
    "    cursor.execute(query)\n",
    "cursor.commit()"
   ]
  }
 ],
 "metadata": {
  "kernelspec": {
   "display_name": "Python 3",
   "language": "python",
   "name": "python3"
  },
  "language_info": {
   "codemirror_mode": {
    "name": "ipython",
    "version": 3
   },
   "file_extension": ".py",
   "mimetype": "text/x-python",
   "name": "python",
   "nbconvert_exporter": "python",
   "pygments_lexer": "ipython3",
   "version": "3.10.8"
  },
  "orig_nbformat": 4
 },
 "nbformat": 4,
 "nbformat_minor": 2
}
