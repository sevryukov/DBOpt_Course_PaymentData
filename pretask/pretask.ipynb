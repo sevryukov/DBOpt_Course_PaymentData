{
 "cells": [
  {
   "attachments": {},
   "cell_type": "markdown",
   "metadata": {},
   "source": [
    "# Задание\n",
    "\n",
    "### Разработать простой тест на корректность расчёта баланса"
   ]
  },
  {
   "attachments": {},
   "cell_type": "markdown",
   "metadata": {},
   "source": [
    "Для начала подключимся к базе данных, для этого будем использовать библиотеку `pyodbc`, предназначенную для работы с базами данных ODBC (например, MS SQL Server)"
   ]
  },
  {
   "cell_type": "code",
   "execution_count": 1,
   "metadata": {},
   "outputs": [],
   "source": [
    "import pyodbc \n",
    "\n",
    "str_param = (\n",
    "    r'Driver={ODBC Driver 18 for SQL Server};'\n",
    "    r'Server=localhost;'\n",
    "    r'Database=PaymentData;'\n",
    "    r'Trusted_Connection=yes;'\n",
    "    r'Encrypt=no;'\n",
    "    )\n",
    "cnxn = pyodbc.connect(str_param)\n",
    "cursor = cnxn.cursor()"
   ]
  },
  {
   "attachments": {},
   "cell_type": "markdown",
   "metadata": {},
   "source": [
    "Для проведения теста будем использовать пример из `Balance description.pdf`. В нём производится 4 платежа:\n",
    "\n",
    "1. `Bank` -> `Supplier` - \"Авансовый платёж\" на 400000\n",
    "\n",
    "2. `Supplier` -> `Client` - \"Закупка материалов\" на 100000\n",
    "\n",
    "3. `Client` -> `Cashbox` - \"На закупку материалов\" на 150000\n",
    "    \n",
    "4. `Cashbox` -> `Bank` - \"Возврат кредита\" на 100000"
   ]
  },
  {
   "attachments": {},
   "cell_type": "markdown",
   "metadata": {},
   "source": [
    "Для этого нужно:\n",
    "\n",
    "1. Получить `Oid` для `Bank`, `Supplier`, `Client`, `Cashbox`, `Project` (вытекает из схемы базы данных, см. ниже)\n",
    "\n",
    "![Схема используемой части БД](scheme.png)\n",
    "\n",
    "2. Узнать `Oid` для категории каждого платежа\n",
    "\n",
    "3. Провести платежи, при этом каждый раз проверяя правильность баланса"
   ]
  },
  {
   "attachments": {},
   "cell_type": "markdown",
   "metadata": {},
   "source": [
    "### №1. Получение `Oid` "
   ]
  },
  {
   "cell_type": "code",
   "execution_count": 2,
   "metadata": {},
   "outputs": [],
   "source": [
    "def get_oid(table):\n",
    "    query = f\"\"\"\n",
    "    SELECT TOP 1 {table}.Oid\n",
    "    FROM {table} \n",
    "    INNER JOIN PaymentParticipant ON {table}.Oid = PaymentParticipant.Oid\n",
    "    ORDER BY NEWID()\n",
    "    \"\"\"\n",
    "    return cursor.execute(query).fetchval()\n",
    "\n",
    "\n",
    "def get_proj_oid(client_oid):\n",
    "    query = f\"\"\"\n",
    "    SELECT Oid\n",
    "\tFROM Project\n",
    "\tWHERE Client = '{client_oid}'\n",
    "    \"\"\"\n",
    "    return cursor.execute(query).fetchval()\n",
    "\n",
    "\n",
    "bank_oid = get_oid('Bank')\n",
    "supplier_oid = get_oid('Supplier')\n",
    "client_oid = get_oid('Client')\n",
    "cashbox_oid = get_oid('Cashbox')\n",
    "project_oid = get_proj_oid(client_oid)"
   ]
  },
  {
   "attachments": {},
   "cell_type": "markdown",
   "metadata": {},
   "source": [
    "### №2. Получение `Oid` для категории каждого платежа"
   ]
  },
  {
   "cell_type": "code",
   "execution_count": 3,
   "metadata": {},
   "outputs": [],
   "source": [
    "def get_category_oid(category):\n",
    "    query = f\"\"\"\n",
    "    SELECT Oid FROM PaymentCategory\n",
    "    WHERE Name = '{category}'\n",
    "    \"\"\" \n",
    "    return cursor.execute(query).fetchval()"
   ]
  },
  {
   "attachments": {},
   "cell_type": "markdown",
   "metadata": {},
   "source": [
    "### №3. Проведение платежей и проверка баланса"
   ]
  },
  {
   "attachments": {},
   "cell_type": "markdown",
   "metadata": {},
   "source": [
    "Функция для получения баланса"
   ]
  },
  {
   "cell_type": "code",
   "execution_count": 4,
   "metadata": {},
   "outputs": [],
   "source": [
    "def get_balance(oid):\n",
    "    query = f\"\"\"\n",
    "    SELECT Balance FROM PaymentParticipant \n",
    "    WHERE Oid = '{oid}'\n",
    "    \"\"\"\n",
    "    return cursor.execute(query).fetchval()"
   ]
  },
  {
   "attachments": {},
   "cell_type": "markdown",
   "metadata": {},
   "source": [
    "Балансы до операции"
   ]
  },
  {
   "cell_type": "code",
   "execution_count": 5,
   "metadata": {},
   "outputs": [],
   "source": [
    "def print_balances(bank_oid, supplier_oid, client_oid, cashbox_oid):\n",
    "    print(f'Bank balance: {get_balance(bank_oid)}')\n",
    "    print(f'Supplier balance: {get_balance(supplier_oid)}')\n",
    "    print(f'Client balance: {get_balance(client_oid)}')\n",
    "    print(f'Cashbox balance: {get_balance(cashbox_oid)}')"
   ]
  },
  {
   "cell_type": "code",
   "execution_count": 6,
   "metadata": {},
   "outputs": [
    {
     "name": "stdout",
     "output_type": "stream",
     "text": [
      "Bank balance: -10800\n",
      "Supplier balance: 13987\n",
      "Client balance: -18773\n",
      "Cashbox balance: 8924\n"
     ]
    }
   ],
   "source": [
    "print_balances(bank_oid, supplier_oid, client_oid, cashbox_oid)"
   ]
  },
  {
   "attachments": {},
   "cell_type": "markdown",
   "metadata": {},
   "source": [
    "Проведение первого платежа"
   ]
  },
  {
   "cell_type": "code",
   "execution_count": 7,
   "metadata": {},
   "outputs": [],
   "source": [
    "first_payment_oid = get_category_oid(\"Аванс на материалы\")\n",
    "query = f\"\"\"\n",
    "INSERT INTO Payment\n",
    "(Oid, Amount, Category, Project, Justification,\n",
    "Comment, Date, Payer, Payee, OptimisticLockField, GCRecord,\n",
    "CreateDate, CheckNumber, IsAuthorized, Number)\n",
    "VALUES\n",
    "(NEWID(), 400000, '{first_payment_oid}', '{project_oid}', NULL,\n",
    "'Первый платёж', NULL, '{bank_oid}', '{supplier_oid}', NULL, NULL,\n",
    "NULL, NULL, NULL, NULL)\n",
    "\"\"\"\n",
    "cursor.execute(query)\n",
    "cursor.commit()"
   ]
  },
  {
   "attachments": {},
   "cell_type": "markdown",
   "metadata": {},
   "source": [
    "Проверка баланса"
   ]
  },
  {
   "cell_type": "code",
   "execution_count": 8,
   "metadata": {},
   "outputs": [
    {
     "name": "stdout",
     "output_type": "stream",
     "text": [
      "Bank balance: -410800\n",
      "Supplier balance: 413987\n",
      "Client balance: -18773\n",
      "Cashbox balance: 8924\n"
     ]
    }
   ],
   "source": [
    "print_balances(bank_oid, supplier_oid, client_oid, cashbox_oid)"
   ]
  },
  {
   "attachments": {},
   "cell_type": "markdown",
   "metadata": {},
   "source": [
    "Проведение второго платежа"
   ]
  },
  {
   "cell_type": "code",
   "execution_count": 9,
   "metadata": {},
   "outputs": [],
   "source": [
    "second_payment_oid = get_category_oid(\"Закупка материалов\")\n",
    "query = f\"\"\"\n",
    "    INSERT INTO Payment\n",
    "    (Oid, Amount, Category, Project, Justification,\n",
    "\tComment, Date, Payer, Payee, OptimisticLockField, GCRecord,\n",
    "\tCreateDate, CheckNumber, IsAuthorized, Number)\n",
    "    VALUES\n",
    "    (NEWID(), 100000, '{second_payment_oid}', '{project_oid}', NULL,\n",
    "    'Второй платёж', NULL, '{supplier_oid}', '{client_oid}', NULL, NULL,\n",
    "    NULL, NULL, NULL, NULL)\n",
    "    \"\"\"\n",
    "cursor.execute(query)\n",
    "cursor.commit()"
   ]
  },
  {
   "attachments": {},
   "cell_type": "markdown",
   "metadata": {},
   "source": [
    "Проверка баланса"
   ]
  },
  {
   "cell_type": "code",
   "execution_count": 10,
   "metadata": {},
   "outputs": [
    {
     "name": "stdout",
     "output_type": "stream",
     "text": [
      "Bank balance: -410800\n",
      "Supplier balance: 313987\n",
      "Client balance: 81227\n",
      "Cashbox balance: 8924\n"
     ]
    }
   ],
   "source": [
    "print_balances(bank_oid, supplier_oid, client_oid, cashbox_oid)"
   ]
  },
  {
   "attachments": {},
   "cell_type": "markdown",
   "metadata": {},
   "source": [
    "Проведение третьего платежа"
   ]
  },
  {
   "cell_type": "code",
   "execution_count": 11,
   "metadata": {},
   "outputs": [],
   "source": [
    "third_payment_oid = get_category_oid(\"Закупка материалов\")\n",
    "query = f\"\"\"\n",
    "    INSERT INTO Payment\n",
    "    (Oid, Amount, Category, Project, Justification,\n",
    "\tComment, Date, Payer, Payee, OptimisticLockField, GCRecord,\n",
    "\tCreateDate, CheckNumber, IsAuthorized, Number)\n",
    "    VALUES\n",
    "    (NEWID(), 150000, '{third_payment_oid}', '{project_oid}', NULL,\n",
    "    'Третий платёж', NULL, '{client_oid}', '{cashbox_oid}', NULL, NULL,\n",
    "    NULL, NULL, NULL, NULL)\n",
    "    \"\"\"\n",
    "cursor.execute(query)\n",
    "cursor.commit()"
   ]
  },
  {
   "attachments": {},
   "cell_type": "markdown",
   "metadata": {},
   "source": [
    "Проверка баланса"
   ]
  },
  {
   "cell_type": "code",
   "execution_count": 12,
   "metadata": {},
   "outputs": [
    {
     "name": "stdout",
     "output_type": "stream",
     "text": [
      "Bank balance: -410800\n",
      "Supplier balance: 313987\n",
      "Client balance: -68773\n",
      "Cashbox balance: 158924\n"
     ]
    }
   ],
   "source": [
    "print_balances(bank_oid, supplier_oid, client_oid, cashbox_oid)"
   ]
  },
  {
   "attachments": {},
   "cell_type": "markdown",
   "metadata": {},
   "source": [
    "Проведение четвёртого платежа"
   ]
  },
  {
   "cell_type": "code",
   "execution_count": 13,
   "metadata": {},
   "outputs": [],
   "source": [
    "payment_category_oid = get_category_oid(\"Возврат кредита\")\n",
    "query = f\"\"\"\n",
    "    INSERT INTO Payment\n",
    "    (Oid, Amount, Category, Project, Justification,\n",
    "\tComment, Date, Payer, Payee, OptimisticLockField, GCRecord,\n",
    "\tCreateDate, CheckNumber, IsAuthorized, Number)\n",
    "    VALUES\n",
    "    (NEWID(), 100000, '{payment_category_oid}', '{project_oid}', NULL,\n",
    "    'Частичное погашение кредита ', NULL, '{cashbox_oid}', '{bank_oid}', NULL, NULL,\n",
    "    NULL, NULL, NULL, NULL)\n",
    "    \"\"\"\n",
    "cursor.execute(query)\n",
    "cursor.commit()"
   ]
  },
  {
   "attachments": {},
   "cell_type": "markdown",
   "metadata": {},
   "source": [
    "Финальная проверка баланса"
   ]
  },
  {
   "cell_type": "code",
   "execution_count": 14,
   "metadata": {},
   "outputs": [
    {
     "name": "stdout",
     "output_type": "stream",
     "text": [
      "Bank balance: -310800\n",
      "Supplier balance: 313987\n",
      "Client balance: -68773\n",
      "Cashbox balance: 58924\n"
     ]
    }
   ],
   "source": [
    "print_balances(bank_oid, supplier_oid, client_oid, cashbox_oid)"
   ]
  },
  {
   "cell_type": "code",
   "execution_count": 15,
   "metadata": {},
   "outputs": [],
   "source": [
    "cursor.close()\n",
    "cnxn.close()"
   ]
  },
  {
   "attachments": {},
   "cell_type": "markdown",
   "metadata": {},
   "source": [
    "Использованные источники:\n",
    "1. https://github.com/mkleehammer/pyodbc/wiki\n",
    "2. https://habr.com/ru/articles/321510/"
   ]
  }
 ],
 "metadata": {
  "kernelspec": {
   "display_name": "Python 3",
   "language": "python",
   "name": "python3"
  },
  "language_info": {
   "codemirror_mode": {
    "name": "ipython",
    "version": 3
   },
   "file_extension": ".py",
   "mimetype": "text/x-python",
   "name": "python",
   "nbconvert_exporter": "python",
   "pygments_lexer": "ipython3",
   "version": "3.9.10"
  },
  "orig_nbformat": 4
 },
 "nbformat": 4,
 "nbformat_minor": 2
}
